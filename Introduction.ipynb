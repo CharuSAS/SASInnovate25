{
 "cells": [
  {
   "cell_type": "markdown",
   "metadata": {},
   "source": [
    "### SAS Data Science Methodology"
   ]
  },
  {
   "cell_type": "markdown",
   "metadata": {},
   "source": [
    "In this SAS Viya Workbench seminar, we’ll walk through a practical, 5-step data journey—from access to insights.<br>\n",
    "* We'll start by loading the analysis tables (Access)<br>\n",
    "* then explore the data for quality issues (Explore).<br>\n",
    "* Next, we’ll clean and enrich it (Prepare)<br>\n",
    "* uncover patterns (Analyze)<br>\n",
    "* and finally create interactive reports (Report).<br><br>\n",
    "\n",
    " It’s a full workflow—streamlined, visual, and ready for action!"
   ]
  },
  {
   "cell_type": "markdown",
   "metadata": {},
   "source": [
    "THE DATA"
   ]
  },
  {
   "cell_type": "markdown",
   "metadata": {},
   "source": [
    "Pollinators like bees, butterflies, and birds play a vital role in keeping our ecosystems—and our food supply—thriving. They help fertilize plants, ensuring the growth of fruits, vegetables, and seeds. But pollinator populations are in decline due to habitat loss, pesticides, climate change, and disease. Their dwindling numbers are a warning buzz—we need to act to protect these tiny powerhouses before the ripple effects grow too large to ignore."
   ]
  },
  {
   "cell_type": "code",
   "execution_count": 10,
   "metadata": {},
   "outputs": [
    {
     "data": {
      "text/html": [
       "\n",
       "<div style=\"text-align: center;\">\n",
       "    <h3 style=\"font-family: sans-serif; color: #444;\">🐝 Rusty Patched Bumble Bee</h3>\n",
       "    <img src=\"https://images.ctfassets.net/cnu0m8re1exe/4nVzwubwk0QTMF15jLEoDI/05c89bb1ef18c1220bf15b81f789c15f/Low-Res_Rusty_patched_bumble_bee_cbolt_08082015_DSC9052_patched_72.jpg?fm=jpg&fl=progressive&w=660&h=433&fit=fill\" alt=\"🐝 Rusty Patched Bumble Bee\" style=\"max-width: 80%; height: auto; border: 2px solid #ccc; border-radius: 10px;\">\n",
       "    <p style=\"font-family: sans-serif; color: #555; font-size: 12px;\">Source: <a href=\"https://www.fs.usda.gov/wildflowers/pollinators/pollinator-of-the-month/megachile_bees.shtml\" target=\"_blank\">Rusty Patched Bumble Bee - USDA Forest Service</a></p>\n",
       "</div>\n"
      ],
      "text/plain": [
       "<IPython.core.display.HTML object>"
      ]
     },
     "metadata": {},
     "output_type": "display_data"
    }
   ],
   "source": [
    "from IPython.display import display, HTML\n",
    "\n",
    "# Image URL, title, and source\n",
    "img_url = \"https://images.ctfassets.net/cnu0m8re1exe/4nVzwubwk0QTMF15jLEoDI/05c89bb1ef18c1220bf15b81f789c15f/Low-Res_Rusty_patched_bumble_bee_cbolt_08082015_DSC9052_patched_72.jpg?fm=jpg&fl=progressive&w=660&h=433&fit=fill\"\n",
    "title = \"🐝 Rusty Patched Bumble Bee\"\n",
    "source = 'Source: <a href=\"https://www.fs.usda.gov/wildflowers/pollinators/pollinator-of-the-month/megachile_bees.shtml\" target=\"_blank\">Rusty Patched Bumble Bee - USDA Forest Service</a>'\n",
    "\n",
    "# HTML content to display the image with title and source\n",
    "html_content = f\"\"\"\n",
    "<div style=\"text-align: center;\">\n",
    "    <h3 style=\"font-family: sans-serif; color: #444;\">{title}</h3>\n",
    "    <img src=\"{img_url}\" alt=\"{title}\" style=\"max-width: 80%; height: auto; border: 2px solid #ccc; border-radius: 10px;\">\n",
    "    <p style=\"font-family: sans-serif; color: #555; font-size: 12px;\">{source}</p>\n",
    "</div>\n",
    "\"\"\"\n",
    "\n",
    "# Display the HTML content\n",
    "display(HTML(html_content))"
   ]
  },
  {
   "cell_type": "markdown",
   "metadata": {},
   "source": [
    "These are the 4 tables we will use in this Seminar\n",
    "1. Pattern_decline_N_American_Bumblebees.csv\n",
    "2. Pattern_decline_Mexican_Bumblebees.csv\n",
    "3. Bumblebee_Others_Scientific_Common_Names - scientific and common name lookup \n",
    "4. Native_vs_nonnative_bumblebee_sighting_pollinators_of_farm_data_for_publication\n"
   ]
  },
  {
   "cell_type": "code",
   "execution_count": 9,
   "metadata": {},
   "outputs": [
    {
     "data": {
      "text/html": [
       "\n",
       "<div style=\"text-align: center;\">\n",
       "    <h3 style=\"font-family: sans-serif; color: #444;\">🐝 Megachile mcculloch Bee</h3>\n",
       "    <img src=\"https://www.fs.usda.gov/wildflowers/pollinators/pollinator-of-the-month/images/megachilebees/megachile_mcculloch_lg.jpg\" alt=\"🐝 Megachile mcculloch Bee\" style=\"max-width: 80%; height: auto; border: 2px solid #ccc; border-radius: 10px;\">\n",
       "    <p style=\"font-family: sans-serif; color: #555; font-size: 12px;\">Source: <a href='https://www.fs.usda.gov/wildflowers/pollinators/pollinator-of-the-month/megachile_bees.shtml' target='_blank'>USDA Forest Service, Megachile Bees</a></p>\n",
       "</div>\n"
      ],
      "text/plain": [
       "<IPython.core.display.HTML object>"
      ]
     },
     "metadata": {},
     "output_type": "display_data"
    }
   ],
   "source": [
    "from IPython.display import display, HTML\n",
    "\n",
    "# Image URL, title, and source\n",
    "img_url = \"https://www.fs.usda.gov/wildflowers/pollinators/pollinator-of-the-month/images/megachilebees/megachile_mcculloch_lg.jpg\"\n",
    "title = \"🐝 Megachile mcculloch Leaf Cutter Bee\"\n",
    "source = \"Source: <a href='https://www.fs.usda.gov/wildflowers/pollinators/pollinator-of-the-month/megachile_bees.shtml' target='_blank'>USDA Forest Service, Megachile Bees</a>\"\n",
    "\n",
    "# HTML content to display the image with title and clickable source\n",
    "html_content = f\"\"\"\n",
    "<div style=\"text-align: center;\">\n",
    "    <h3 style=\"font-family: sans-serif; color: #444;\">{title}</h3>\n",
    "    <img src=\"{img_url}\" alt=\"{title}\" style=\"max-width: 80%; height: auto; border: 2px solid #ccc; border-radius: 10px;\">\n",
    "    <p style=\"font-family: sans-serif; color: #555; font-size: 12px;\">{source}</p>\n",
    "</div>\n",
    "\"\"\"\n",
    "\n",
    "# Display the HTML content\n",
    "display(HTML(html_content))"
   ]
  },
  {
   "cell_type": "code",
   "execution_count": 1,
   "metadata": {},
   "outputs": [
    {
     "name": "stdout",
     "output_type": "stream",
     "text": [
      "         year  month   day stateProvince       scientificName   kingdom  \\\n",
      "0      1970.0    7.0  27.0       Arizona  Bombus occidentalis  Animalia   \n",
      "1      1970.0    7.0  27.0       Arizona  Bombus occidentalis  Animalia   \n",
      "2      1989.0    6.0  16.0       Arizona      Bombus bifarius  Animalia   \n",
      "3      1970.0    9.0  15.0       Arizona  Bombus occidentalis  Animalia   \n",
      "4      1961.0    8.0  15.0       Arizona      Bombus bifarius  Animalia   \n",
      "...       ...    ...   ...           ...                  ...       ...   \n",
      "66902  1917.0    NaN   NaN      Colorado      Bombus bifarius  Animalia   \n",
      "66903  1940.0    NaN   NaN          Utah      Bombus bifarius  Animalia   \n",
      "66904  1940.0    NaN   NaN          Utah      Bombus bifarius  Animalia   \n",
      "66905  1940.0    NaN   NaN          Utah      Bombus bifarius  Animalia   \n",
      "66906  1940.0    NaN   NaN          Utah      Bombus bifarius  Animalia   \n",
      "\n",
      "           phylum    class  family   genus  \n",
      "0      Arthropoda  Insecta  Apidae  Bombus  \n",
      "1      Arthropoda  Insecta  Apidae  Bombus  \n",
      "2      Arthropoda  Insecta  Apidae  Bombus  \n",
      "3      Arthropoda  Insecta  Apidae  Bombus  \n",
      "4      Arthropoda  Insecta  Apidae  Bombus  \n",
      "...           ...      ...     ...     ...  \n",
      "66902  Arthropoda  Insecta  Apidae  Bombus  \n",
      "66903  Arthropoda  Insecta  Apidae  Bombus  \n",
      "66904  Arthropoda  Insecta  Apidae  Bombus  \n",
      "66905  Arthropoda  Insecta  Apidae  Bombus  \n",
      "66906  Arthropoda  Insecta  Apidae  Bombus  \n",
      "\n",
      "[66907 rows x 10 columns]\n"
     ]
    }
   ],
   "source": [
    "import pandas as pd\n",
    "\n",
    "# Load the CSV into a pandas DataFrame\n",
    "df=pd.read_csv('/workspaces/myfolder/SASInnovate25/pattern_decline_N_American_Bumblebees.csv', dtype={6: str, 16: str}, encoding='latin-1')\n",
    "\n",
    "# List of the columns to display\n",
    "columns_to_display = [\n",
    "    'year', 'month', 'day', 'stateProvince',  \n",
    "    'scientificName', 'kingdom', 'phylum', 'class', \n",
    "    'family', 'genus'\n",
    "]\n",
    "\n",
    "# Display only the specified columns\n",
    "print(df[columns_to_display])"
   ]
  }
 ],
 "metadata": {
  "kernelspec": {
   "display_name": "Python 3",
   "language": "python",
   "name": "python3"
  },
  "language_info": {
   "codemirror_mode": {
    "name": "ipython",
    "version": 3
   },
   "file_extension": ".py",
   "mimetype": "text/x-python",
   "name": "python",
   "nbconvert_exporter": "python",
   "pygments_lexer": "ipython3",
   "version": "3.11.11"
  }
 },
 "nbformat": 4,
 "nbformat_minor": 2
}
