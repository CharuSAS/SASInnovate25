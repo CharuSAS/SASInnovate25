{
 "cells": [
  {
   "cell_type": "code",
   "execution_count": null,
   "metadata": {},
   "outputs": [],
   "source": [
    "data dst4_modified;\n",
    "  set dst4;\n",
    "  where 'plant species'n ne ' ';\n",
    "  PlantSpecies_Year=catx('-','plant species'n,year);\n",
    "  Month=month(date);\n",
    "run;"
   ]
  },
  {
   "cell_type": "code",
   "execution_count": null,
   "metadata": {},
   "outputs": [],
   "source": [
    "title;\n",
    "ods layout gridded columns=2 column_gutter=1cm;\n",
    "ods region;\n",
    "proc sgplot data=dst4_modified;\n",
    "  where plot='native';\n",
    "  heatmap x=Month y=PlantSpecies_Year \n",
    "          / discretex x2axis colormodel=(peachpuff orange firebrick);\n",
    "  x2axis values=('5' '6' '7' '8' '9' '10') label='Native plants with respective flowering periods';\n",
    "  yaxis discreteorder=formatted reverse label='Plant Species and Year';\n",
    "run;\n",
    " \n",
    "ods region;\n",
    "proc sgplot data=dst4_modified;\n",
    "  where plot='non-native';\n",
    "  heatmap x=Month y=PlantSpecies_Year \n",
    "          / discretex x2axis colormodel=(peachpuff orange firebrick);\n",
    "  x2axis values=('5' '6' '7' '8' '9' '10') label='Non-Native plants with respective flowering periods';\n",
    "  yaxis discreteorder=formatted reverse label='Plant Species and Year';\n",
    "run;\n",
    "ods layout end;"
   ]
  }
 ],
 "metadata": {
  "language_info": {
   "name": "python"
  }
 },
 "nbformat": 4,
 "nbformat_minor": 2
}
