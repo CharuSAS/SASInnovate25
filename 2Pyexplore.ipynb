{
 "cells": [
  {
   "cell_type": "markdown",
   "metadata": {},
   "source": [
    "## Python Data Exploration"
   ]
  },
  {
   "cell_type": "code",
   "execution_count": 20,
   "metadata": {},
   "outputs": [],
   "source": [
    "import pandas as pd"
   ]
  },
  {
   "cell_type": "markdown",
   "metadata": {},
   "source": [
    "Metadata time to see what’s buzzing under the surface!\" 🍯🐝"
   ]
  },
  {
   "cell_type": "code",
   "execution_count": 21,
   "metadata": {},
   "outputs": [
    {
     "ename": "NameError",
     "evalue": "name 'df2' is not defined",
     "output_type": "error",
     "traceback": [
      "\u001b[0;31m---------------------------------------------------------------------------\u001b[0m",
      "\u001b[0;31mNameError\u001b[0m                                 Traceback (most recent call last)",
      "Cell \u001b[0;32mIn[21], line 2\u001b[0m\n\u001b[1;32m      1\u001b[0m \u001b[38;5;66;03m#metadata\u001b[39;00m\n\u001b[0;32m----> 2\u001b[0m \u001b[43mdf2\u001b[49m\u001b[38;5;241m.\u001b[39minfo()\n",
      "\u001b[0;31mNameError\u001b[0m: name 'df2' is not defined"
     ]
    }
   ],
   "source": [
    "#metadata\n",
    "df2.info()"
   ]
  },
  {
   "cell_type": "markdown",
   "metadata": {},
   "source": [
    "Why do I have to import the same data for each notebook in Workbench? Why can't I just import it in one notebook and use it across others?"
   ]
  },
  {
   "cell_type": "markdown",
   "metadata": {},
   "source": [
    "In SAS Viya Workbench (and most notebook environments like Jupyter), each notebook runs in its own separate memory space (called a kernel).<br>\n",
    "🔹 When you import data into one notebook, it lives only inside that notebook’s memory.<br>\n",
    "🔹 Other notebooks can’t see or share that memory unless you explicitly save the data somewhere they can both access — like saving it to a file (CSV, SAS7BDAT, etc.) or a shared database.<br><br>\n",
    "\n",
    "Think of it like this:<br>\n",
    "🐝 Each notebook is like its own private hive — it doesn't know what's buzzing in the next hive unless you share the honey (data) in a common place."
   ]
  },
  {
   "cell_type": "code",
   "execution_count": 2,
   "metadata": {},
   "outputs": [],
   "source": [
    "import pandas as pd\n",
    "\n",
    "df1=pd.read_csv('/workspaces/myfolder/SASInnovate25/pattern_decline_N_American_Bumblebees.csv', dtype={6: str, 16: str}, encoding='latin-1')\n",
    "df2=pd.read_csv('/workspaces/myfolder/SASInnovate25/pattern_decline_Mexican_Bumblebees.csv' , encoding='latin-1')\n",
    "df3=pd.read_csv('/workspaces/myfolder/SASInnovate25/Bumblebee_Others_Scientific_Common_Names.csv' , encoding='latin-1')\n",
    "df4=pd.read_csv('/workspaces/myfolder/SASInnovate25/native_vs_nonnative_bumblebee_sighting_pollinators_of_farm_data_for_publication.csv' , encoding='latin-1')"
   ]
  },
  {
   "cell_type": "markdown",
   "metadata": {},
   "source": [
    "🐝 Why doesn’t Python leave as many 'honey trails' of progress like SAS does?\n",
    "\n",
    "Python stays quiet unless you ask it to speak (with print(), logging, or verbose settings), while SAS automatically logs every step to meet strict audit needs in industries like healthcare and finance. If you want more buzz in Python, you can add manual print()s, use the logging library, or turn on verbose options!"
   ]
  },
  {
   "cell_type": "markdown",
   "metadata": {},
   "source": [
    "🐝✨ Let’s create a tiny SAS-style log in Python to show you how it can feel more \"chatty\" during program execution."
   ]
  },
  {
   "cell_type": "code",
   "execution_count": 24,
   "metadata": {},
   "outputs": [
    {
     "name": "stderr",
     "output_type": "stream",
     "text": [
      "2025-04-29 01:53:49,659 - INFO - Starting program execution...\n",
      "/tmp/ipykernel_2434/540410752.py:11: DtypeWarning: Columns (6,16) have mixed types. Specify dtype option on import or set low_memory=False.\n",
      "  df = pd.read_csv('/workspaces/myfolder/SASInnovate25/pattern_decline_N_American_Bumblebees.csv', encoding='latin-1')\n",
      "2025-04-29 01:53:49,913 - INFO - CSV file successfully read into a DataFrame.\n",
      "2025-04-29 01:53:49,914 - INFO - Displaying dataset structure:\n",
      "2025-04-29 01:53:50,011 - INFO - Calculated summary statistics.\n",
      "2025-04-29 01:53:50,011 - INFO - Here are the first 5 rows of the dataset:\n",
      "2025-04-29 01:53:50,026 - INFO - Program execution completed successfully.\n"
     ]
    },
    {
     "name": "stdout",
     "output_type": "stream",
     "text": [
      "<class 'pandas.core.frame.DataFrame'>\n",
      "RangeIndex: 66907 entries, 0 to 66906\n",
      "Data columns (total 26 columns):\n",
      " #   Column                    Non-Null Count  Dtype  \n",
      "---  ------                    --------------  -----  \n",
      " 0   id                        66907 non-null  int64  \n",
      " 1   institutionCode           66907 non-null  object \n",
      " 2   collectionCode            66907 non-null  object \n",
      " 3   basisOfRecord             66907 non-null  object \n",
      " 4   occurrenceID              66907 non-null  int64  \n",
      " 5   catalogNumber             66907 non-null  object \n",
      " 6   recordedBy                25350 non-null  object \n",
      " 7   year                      65778 non-null  float64\n",
      " 8   month                     66368 non-null  float64\n",
      " 9   day                       63897 non-null  float64\n",
      " 10  country                   66818 non-null  object \n",
      " 11  stateProvince             66818 non-null  object \n",
      " 12  county                    59648 non-null  object \n",
      " 13  locality                  62342 non-null  object \n",
      " 14  verbatimLatitude          65980 non-null  float64\n",
      " 15  verbatimLongitude         65980 non-null  float64\n",
      " 16  identifiedBy              25309 non-null  object \n",
      " 17  scientificName            66907 non-null  object \n",
      " 18  kingdom                   66907 non-null  object \n",
      " 19  phylum                    66907 non-null  object \n",
      " 20  class                     66907 non-null  object \n",
      " 21  order                     66907 non-null  object \n",
      " 22  family                    66907 non-null  object \n",
      " 23  genus                     66907 non-null  object \n",
      " 24  specificEpithet           66889 non-null  object \n",
      " 25  scientificNameAuthorship  66907 non-null  object \n",
      "dtypes: float64(5), int64(2), object(19)\n",
      "memory usage: 13.3+ MB\n",
      "None\n",
      "   id institutionCode collectionCode      basisOfRecord  occurrenceID  \\\n",
      "0   1        USDA-ARS           BBSL  PreservedSpecimen     699384987   \n",
      "1   2        USDA-ARS           BBSL  PreservedSpecimen     699384988   \n",
      "2   3        USDA-ARS           BBSL  PreservedSpecimen     699384989   \n",
      "3   4        USDA-ARS           BBSL  PreservedSpecimen     699384990   \n",
      "4   5        USDA-ARS           BBSL  PreservedSpecimen     699384991   \n",
      "\n",
      "  catalogNumber        recordedBy    year  month   day  ...  \\\n",
      "0    BBSL221088       W. Apperson  1970.0    7.0  27.0  ...   \n",
      "1    BBSL241571       W. Apperson  1970.0    7.0  27.0  ...   \n",
      "2         76122         B. Hevron  1989.0    6.0  16.0  ...   \n",
      "3      JPS30053  P.S. Bartholomew  1970.0    9.0  15.0  ...   \n",
      "4    BBSL226571       W.J. Hanson  1961.0    8.0  15.0  ...   \n",
      "\n",
      "         identifiedBy       scientificName   kingdom      phylum    class  \\\n",
      "0                 NaN  Bombus occidentalis  Animalia  Arthropoda  Insecta   \n",
      "1                 NaN  Bombus occidentalis  Animalia  Arthropoda  Insecta   \n",
      "2  T.L. Griswold 1994      Bombus bifarius  Animalia  Arthropoda  Insecta   \n",
      "3  R.S. Jacobson 1991  Bombus occidentalis  Animalia  Arthropoda  Insecta   \n",
      "4                 NaN      Bombus bifarius  Animalia  Arthropoda  Insecta   \n",
      "\n",
      "         order  family   genus specificEpithet scientificNameAuthorship  \n",
      "0  Hymenoptera  Apidae  Bombus    occidentalis              Greene 1858  \n",
      "1  Hymenoptera  Apidae  Bombus    occidentalis              Greene 1858  \n",
      "2  Hymenoptera  Apidae  Bombus        bifarius             Cresson 1878  \n",
      "3  Hymenoptera  Apidae  Bombus    occidentalis              Greene 1858  \n",
      "4  Hymenoptera  Apidae  Bombus        bifarius             Cresson 1878  \n",
      "\n",
      "[5 rows x 26 columns]\n"
     ]
    }
   ],
   "source": [
    "import pandas as pd\n",
    "import logging\n",
    "\n",
    "# Set up a basic logger\n",
    "logging.basicConfig(level=logging.INFO, format='%(asctime)s - %(levelname)s - %(message)s')\n",
    "\n",
    "logging.info('Starting program execution...')\n",
    "\n",
    "# Step 1: Read data\n",
    "try:\n",
    "    df = pd.read_csv('/workspaces/myfolder/SASInnovate25/pattern_decline_N_American_Bumblebees.csv', encoding='latin-1')\n",
    "    logging.info('CSV file successfully read into a DataFrame.')\n",
    "except Exception as e:\n",
    "    logging.error(f'Error reading CSV file: {e}')\n",
    "\n",
    "# Step 2: Check basic information\n",
    "logging.info('Displaying dataset structure:')\n",
    "print(df.info())\n",
    "\n",
    "# Step 3: Calculate basic statistics\n",
    "summary = df.describe()\n",
    "logging.info('Calculated summary statistics.')\n",
    "\n",
    "# Step 4: Preview data\n",
    "logging.info('Here are the first 5 rows of the dataset:')\n",
    "print(df.head())\n",
    "\n",
    "logging.info('Program execution completed successfully.')"
   ]
  },
  {
   "cell_type": "markdown",
   "metadata": {},
   "source": [
    "What this does:\n",
    "\n",
    "logging.info() shows friendly notes as you move through each step (just like SAS NOTES).\n",
    "\n",
    "If something goes wrong, logging.error() prints an error (just like SAS ERRORS).\n",
    "\n",
    "It timestamps each message automatically!"
   ]
  },
  {
   "cell_type": "code",
   "execution_count": 25,
   "metadata": {},
   "outputs": [
    {
     "name": "stdout",
     "output_type": "stream",
     "text": [
      "<class 'pandas.core.frame.DataFrame'>\n",
      "RangeIndex: 24 entries, 0 to 23\n",
      "Data columns (total 26 columns):\n",
      " #   Column                    Non-Null Count  Dtype  \n",
      "---  ------                    --------------  -----  \n",
      " 0   id                        24 non-null     int64  \n",
      " 1   institutionCode           24 non-null     object \n",
      " 2   collectionCode            24 non-null     object \n",
      " 3   basisOfRecord             24 non-null     object \n",
      " 4   occurrenceID              0 non-null      float64\n",
      " 5   catalogNumber             24 non-null     object \n",
      " 6   recordedBy                0 non-null      float64\n",
      " 7   year                      24 non-null     int64  \n",
      " 8   month                     24 non-null     int64  \n",
      " 9   day                       24 non-null     int64  \n",
      " 10  country                   24 non-null     object \n",
      " 11  stateProvince             24 non-null     object \n",
      " 12  county                    0 non-null      float64\n",
      " 13  locality                  23 non-null     object \n",
      " 14  verbatimLatitude          23 non-null     float64\n",
      " 15  verbatimLongitude         23 non-null     float64\n",
      " 16  identifiedBy              0 non-null      float64\n",
      " 17  scientificName            24 non-null     object \n",
      " 18  kingdom                   24 non-null     object \n",
      " 19  phylum                    24 non-null     object \n",
      " 20  class                     24 non-null     object \n",
      " 21  order                     24 non-null     object \n",
      " 22  family                    24 non-null     object \n",
      " 23  genus                     24 non-null     object \n",
      " 24  specificEpithet           24 non-null     object \n",
      " 25  scientificNameAuthorship  24 non-null     object \n",
      "dtypes: float64(6), int64(4), object(16)\n",
      "memory usage: 5.0+ KB\n"
     ]
    }
   ],
   "source": [
    "# Now that we have re-read the DF2 dataframe, we can look at the metadata\n",
    "df2.info()"
   ]
  },
  {
   "cell_type": "markdown",
   "metadata": {},
   "source": [
    "The method info() provides technical information about a DataFrame, so let’s view the output in more detail:\n",
    "\n",
    "df2 is a DataFrame.\n",
    "\n",
    "There are 24 entries, i.e. 24 rows.\n",
    "\n",
    "Each row has a row label (aka the index) with values ranging from 0 to 0 to 23.\n",
    "\n",
    "The table has 25 columns. Most columns have a value for each of the rows (all values are non-null).\n",
    "\n",
    "There are some columns with textual data (strings, aka object). The other columns are numerical data with some of them whole numbers (aka integer) and others are real numbers (aka float).\n",
    "\n",
    "The kind of data (characters, integers,…) in the different columns are summarized by listing the dtypes.\n",
    "\n",
    "The approximate amount of RAM used to hold the DataFrame is provided as well."
   ]
  },
  {
   "cell_type": "code",
   "execution_count": null,
   "metadata": {},
   "outputs": [
    {
     "data": {
      "text/html": [
       "<div>\n",
       "<style scoped>\n",
       "    .dataframe tbody tr th:only-of-type {\n",
       "        vertical-align: middle;\n",
       "    }\n",
       "\n",
       "    .dataframe tbody tr th {\n",
       "        vertical-align: top;\n",
       "    }\n",
       "\n",
       "    .dataframe thead th {\n",
       "        text-align: right;\n",
       "    }\n",
       "</style>\n",
       "<table border=\"1\" class=\"dataframe\">\n",
       "  <thead>\n",
       "    <tr style=\"text-align: right;\">\n",
       "      <th></th>\n",
       "      <th>id</th>\n",
       "      <th>institutionCode</th>\n",
       "      <th>collectionCode</th>\n",
       "      <th>basisOfRecord</th>\n",
       "      <th>occurrenceID</th>\n",
       "      <th>catalogNumber</th>\n",
       "      <th>recordedBy</th>\n",
       "      <th>year</th>\n",
       "      <th>month</th>\n",
       "      <th>day</th>\n",
       "      <th>...</th>\n",
       "      <th>identifiedBy</th>\n",
       "      <th>scientificName</th>\n",
       "      <th>kingdom</th>\n",
       "      <th>phylum</th>\n",
       "      <th>class</th>\n",
       "      <th>order</th>\n",
       "      <th>family</th>\n",
       "      <th>genus</th>\n",
       "      <th>specificEpithet</th>\n",
       "      <th>scientificNameAuthorship</th>\n",
       "    </tr>\n",
       "  </thead>\n",
       "  <tbody>\n",
       "    <tr>\n",
       "      <th>0</th>\n",
       "      <td>66908</td>\n",
       "      <td>USDA-ARS</td>\n",
       "      <td>BBSL</td>\n",
       "      <td>PreservedSpecimen</td>\n",
       "      <td>NaN</td>\n",
       "      <td>BOMBUS1055</td>\n",
       "      <td>NaN</td>\n",
       "      <td>1965</td>\n",
       "      <td>8</td>\n",
       "      <td>11</td>\n",
       "      <td>...</td>\n",
       "      <td>NaN</td>\n",
       "      <td>Bombus pensylvanicus</td>\n",
       "      <td>Animalia</td>\n",
       "      <td>Arthropoda</td>\n",
       "      <td>Insecta</td>\n",
       "      <td>Hymenoptera</td>\n",
       "      <td>Apidae</td>\n",
       "      <td>Bombus</td>\n",
       "      <td>pensylvanicus</td>\n",
       "      <td>(DeGeer 1773)</td>\n",
       "    </tr>\n",
       "    <tr>\n",
       "      <th>1</th>\n",
       "      <td>66909</td>\n",
       "      <td>USDA-ARS</td>\n",
       "      <td>BBSL</td>\n",
       "      <td>PreservedSpecimen</td>\n",
       "      <td>NaN</td>\n",
       "      <td>BOMBUS1062</td>\n",
       "      <td>NaN</td>\n",
       "      <td>1928</td>\n",
       "      <td>8</td>\n",
       "      <td>26</td>\n",
       "      <td>...</td>\n",
       "      <td>NaN</td>\n",
       "      <td>Bombus pensylvanicus</td>\n",
       "      <td>Animalia</td>\n",
       "      <td>Arthropoda</td>\n",
       "      <td>Insecta</td>\n",
       "      <td>Hymenoptera</td>\n",
       "      <td>Apidae</td>\n",
       "      <td>Bombus</td>\n",
       "      <td>pensylvanicus</td>\n",
       "      <td>(DeGeer 1773)</td>\n",
       "    </tr>\n",
       "    <tr>\n",
       "      <th>2</th>\n",
       "      <td>66910</td>\n",
       "      <td>USDA-ARS</td>\n",
       "      <td>BBSL</td>\n",
       "      <td>PreservedSpecimen</td>\n",
       "      <td>NaN</td>\n",
       "      <td>BOMBUS1063</td>\n",
       "      <td>NaN</td>\n",
       "      <td>1928</td>\n",
       "      <td>8</td>\n",
       "      <td>21</td>\n",
       "      <td>...</td>\n",
       "      <td>NaN</td>\n",
       "      <td>Bombus pensylvanicus</td>\n",
       "      <td>Animalia</td>\n",
       "      <td>Arthropoda</td>\n",
       "      <td>Insecta</td>\n",
       "      <td>Hymenoptera</td>\n",
       "      <td>Apidae</td>\n",
       "      <td>Bombus</td>\n",
       "      <td>pensylvanicus</td>\n",
       "      <td>(DeGeer 1773)</td>\n",
       "    </tr>\n",
       "    <tr>\n",
       "      <th>3</th>\n",
       "      <td>66911</td>\n",
       "      <td>USDA-ARS</td>\n",
       "      <td>BBSL</td>\n",
       "      <td>PreservedSpecimen</td>\n",
       "      <td>NaN</td>\n",
       "      <td>BOMBUS1064</td>\n",
       "      <td>NaN</td>\n",
       "      <td>1928</td>\n",
       "      <td>8</td>\n",
       "      <td>5</td>\n",
       "      <td>...</td>\n",
       "      <td>NaN</td>\n",
       "      <td>Bombus pensylvanicus</td>\n",
       "      <td>Animalia</td>\n",
       "      <td>Arthropoda</td>\n",
       "      <td>Insecta</td>\n",
       "      <td>Hymenoptera</td>\n",
       "      <td>Apidae</td>\n",
       "      <td>Bombus</td>\n",
       "      <td>pensylvanicus</td>\n",
       "      <td>(DeGeer 1773)</td>\n",
       "    </tr>\n",
       "    <tr>\n",
       "      <th>4</th>\n",
       "      <td>66912</td>\n",
       "      <td>USDA-ARS</td>\n",
       "      <td>BBSL</td>\n",
       "      <td>PreservedSpecimen</td>\n",
       "      <td>NaN</td>\n",
       "      <td>BOMBUS1065</td>\n",
       "      <td>NaN</td>\n",
       "      <td>1928</td>\n",
       "      <td>8</td>\n",
       "      <td>19</td>\n",
       "      <td>...</td>\n",
       "      <td>NaN</td>\n",
       "      <td>Bombus pensylvanicus</td>\n",
       "      <td>Animalia</td>\n",
       "      <td>Arthropoda</td>\n",
       "      <td>Insecta</td>\n",
       "      <td>Hymenoptera</td>\n",
       "      <td>Apidae</td>\n",
       "      <td>Bombus</td>\n",
       "      <td>pensylvanicus</td>\n",
       "      <td>(DeGeer 1773)</td>\n",
       "    </tr>\n",
       "  </tbody>\n",
       "</table>\n",
       "<p>5 rows × 26 columns</p>\n",
       "</div>"
      ],
      "text/plain": [
       "      id institutionCode collectionCode      basisOfRecord  occurrenceID  \\\n",
       "0  66908        USDA-ARS           BBSL  PreservedSpecimen           NaN   \n",
       "1  66909        USDA-ARS           BBSL  PreservedSpecimen           NaN   \n",
       "2  66910        USDA-ARS           BBSL  PreservedSpecimen           NaN   \n",
       "3  66911        USDA-ARS           BBSL  PreservedSpecimen           NaN   \n",
       "4  66912        USDA-ARS           BBSL  PreservedSpecimen           NaN   \n",
       "\n",
       "  catalogNumber  recordedBy  year  month  day  ... identifiedBy  \\\n",
       "0    BOMBUS1055         NaN  1965      8   11  ...          NaN   \n",
       "1    BOMBUS1062         NaN  1928      8   26  ...          NaN   \n",
       "2    BOMBUS1063         NaN  1928      8   21  ...          NaN   \n",
       "3    BOMBUS1064         NaN  1928      8    5  ...          NaN   \n",
       "4    BOMBUS1065         NaN  1928      8   19  ...          NaN   \n",
       "\n",
       "         scientificName   kingdom      phylum    class        order  family  \\\n",
       "0  Bombus pensylvanicus  Animalia  Arthropoda  Insecta  Hymenoptera  Apidae   \n",
       "1  Bombus pensylvanicus  Animalia  Arthropoda  Insecta  Hymenoptera  Apidae   \n",
       "2  Bombus pensylvanicus  Animalia  Arthropoda  Insecta  Hymenoptera  Apidae   \n",
       "3  Bombus pensylvanicus  Animalia  Arthropoda  Insecta  Hymenoptera  Apidae   \n",
       "4  Bombus pensylvanicus  Animalia  Arthropoda  Insecta  Hymenoptera  Apidae   \n",
       "\n",
       "    genus specificEpithet scientificNameAuthorship  \n",
       "0  Bombus   pensylvanicus            (DeGeer 1773)  \n",
       "1  Bombus   pensylvanicus            (DeGeer 1773)  \n",
       "2  Bombus   pensylvanicus            (DeGeer 1773)  \n",
       "3  Bombus   pensylvanicus            (DeGeer 1773)  \n",
       "4  Bombus   pensylvanicus            (DeGeer 1773)  \n",
       "\n",
       "[5 rows x 26 columns]"
      ]
     },
     "execution_count": 26,
     "metadata": {},
     "output_type": "execute_result"
    }
   ],
   "source": [
    "#read the first 5 rows of df1 using the head method just like a PROC PRINT\n",
    "df2.head()"
   ]
  },
  {
   "cell_type": "code",
   "execution_count": 32,
   "metadata": {},
   "outputs": [
    {
     "data": {
      "text/plain": [
       "count      24.00000\n",
       "mean     1940.12500\n",
       "std        20.28774\n",
       "min      1908.00000\n",
       "25%      1928.00000\n",
       "50%      1928.00000\n",
       "75%      1962.00000\n",
       "max      1984.00000\n",
       "Name: year, dtype: float64"
      ]
     },
     "execution_count": 32,
     "metadata": {},
     "output_type": "execute_result"
    }
   ],
   "source": [
    "# Understanding hive activity by generating some descriptive statistics for one column, year-just like PROC MEANS\n",
    "df2['year'].describe()"
   ]
  },
  {
   "cell_type": "markdown",
   "metadata": {},
   "source": [
    "Learn where the bumblebees like to buzz around the most by getting frequency counts, similar to PROC FREQ"
   ]
  },
  {
   "cell_type": "code",
   "execution_count": 31,
   "metadata": {},
   "outputs": [
    {
     "name": "stdout",
     "output_type": "stream",
     "text": [
      "stateProvince\n",
      "Mexico          20\n",
      "Quintana Roo     2\n",
      "Durango          1\n",
      "Tamaulipas       1\n",
      "Name: count, dtype: int64\n",
      "scientificName\n",
      "Bombus pensylvanicus    23\n",
      "Bombus impatiens         1\n",
      "Name: count, dtype: int64\n"
     ]
    }
   ],
   "source": [
    "stateProvince_freq = df2['stateProvince'].value_counts()\n",
    "print(stateProvince_freq)\n",
    "scientificName_freq = df2['scientificName'].value_counts()\n",
    "print(scientificName_freq)"
   ]
  },
  {
   "cell_type": "code",
   "execution_count": 4,
   "metadata": {},
   "outputs": [
    {
     "name": "stdout",
     "output_type": "stream",
     "text": [
      "         year  month stateProvince       scientificName   kingdom      phylum  \\\n",
      "0      1970.0    7.0       Arizona  Bombus occidentalis  Animalia  Arthropoda   \n",
      "1      1970.0    7.0       Arizona  Bombus occidentalis  Animalia  Arthropoda   \n",
      "2      1989.0    6.0       Arizona      Bombus bifarius  Animalia  Arthropoda   \n",
      "3      1970.0    9.0       Arizona  Bombus occidentalis  Animalia  Arthropoda   \n",
      "4      1961.0    8.0       Arizona      Bombus bifarius  Animalia  Arthropoda   \n",
      "...       ...    ...           ...                  ...       ...         ...   \n",
      "66902  1917.0    NaN      Colorado      Bombus bifarius  Animalia  Arthropoda   \n",
      "66903  1940.0    NaN          Utah      Bombus bifarius  Animalia  Arthropoda   \n",
      "66904  1940.0    NaN          Utah      Bombus bifarius  Animalia  Arthropoda   \n",
      "66905  1940.0    NaN          Utah      Bombus bifarius  Animalia  Arthropoda   \n",
      "66906  1940.0    NaN          Utah      Bombus bifarius  Animalia  Arthropoda   \n",
      "\n",
      "         class   genus  \n",
      "0      Insecta  Bombus  \n",
      "1      Insecta  Bombus  \n",
      "2      Insecta  Bombus  \n",
      "3      Insecta  Bombus  \n",
      "4      Insecta  Bombus  \n",
      "...        ...     ...  \n",
      "66902  Insecta  Bombus  \n",
      "66903  Insecta  Bombus  \n",
      "66904  Insecta  Bombus  \n",
      "66905  Insecta  Bombus  \n",
      "66906  Insecta  Bombus  \n",
      "\n",
      "[66907 rows x 8 columns]\n"
     ]
    }
   ],
   "source": [
    "# List of the columns to display\n",
    "columns_to_display = [\n",
    "    'year', 'month', 'stateProvince',  \n",
    "    'scientificName', 'kingdom', 'phylum', 'class', 'genus'\n",
    "]\n",
    "\n",
    "# Display only the specified columns\n",
    "print(df1[columns_to_display])"
   ]
  }
 ],
 "metadata": {
  "kernelspec": {
   "display_name": "Python 3",
   "language": "python",
   "name": "python3"
  },
  "language_info": {
   "codemirror_mode": {
    "name": "ipython",
    "version": 3
   },
   "file_extension": ".py",
   "mimetype": "text/x-python",
   "name": "python",
   "nbconvert_exporter": "python",
   "pygments_lexer": "ipython3",
   "version": "3.11.11"
  }
 },
 "nbformat": 4,
 "nbformat_minor": 2
}
