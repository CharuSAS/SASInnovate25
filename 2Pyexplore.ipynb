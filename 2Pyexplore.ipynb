{
 "cells": [
  {
   "cell_type": "code",
   "execution_count": null,
   "metadata": {},
   "outputs": [],
   "source": [
    "import pandas as pd"
   ]
  },
  {
   "cell_type": "code",
   "execution_count": null,
   "metadata": {},
   "outputs": [],
   "source": [
    "#metadata\n",
    "df2.info()"
   ]
  },
  {
   "cell_type": "markdown",
   "metadata": {},
   "source": [
    "The method info() provides technical information about a DataFrame, so let’s view the output in more detail:\n",
    "\n",
    "df2 is a DataFrame.\n",
    "\n",
    "There are 24 entries, i.e. 24 rows.\n",
    "\n",
    "Each row has a row label (aka the index) with values ranging from 0 to 0 to 23.\n",
    "\n",
    "The table has 25 columns. Most columns have a value for each of the rows (all values are non-null).\n",
    "\n",
    "There are some columns with textual data (strings, aka object). The other columns are numerical data with some of them whole numbers (aka integer) and others are real numbers (aka float).\n",
    "\n",
    "The kind of data (characters, integers,…) in the different columns are summarized by listing the dtypes.\n",
    "\n",
    "The approximate amount of RAM used to hold the DataFrame is provided as well."
   ]
  },
  {
   "cell_type": "code",
   "execution_count": null,
   "metadata": {},
   "outputs": [],
   "source": [
    "#read the first 5 rows of df1 using the head method\n",
    "df2.head()"
   ]
  },
  {
   "cell_type": "code",
   "execution_count": null,
   "metadata": {},
   "outputs": [],
   "source": [
    "# generate some descriptive statistics for one column, year\n",
    "df2['year'].describe()"
   ]
  }
 ],
 "metadata": {
  "language_info": {
   "name": "python"
  }
 },
 "nbformat": 4,
 "nbformat_minor": 2
}
