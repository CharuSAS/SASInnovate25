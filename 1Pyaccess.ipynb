{
 "cells": [
  {
   "cell_type": "markdown",
   "metadata": {},
   "source": [
    "## SAS Data Science Methodology"
   ]
  },
  {
   "cell_type": "markdown",
   "metadata": {},
   "source": [
    "Access - Identify analysis tables that will be used in load those tables.<br> \n",
    "Explore/Investigate - Inspect tables to determine whether any changes are needed for data items due to data inconsistencies or data quality issues, as well as identify any new data items that need to be calculated. <br>\n",
    "Prepare - Correct any data quality issues and create any new calculated items needed for analysis. <br>\n",
    "Analyze - Explore  data to identify any patterns, relationships, and trends. <br>\n",
    "Report - Develop interactive reports that can be shared via the web or a mobile device."
   ]
  },
  {
   "cell_type": "markdown",
   "metadata": {},
   "source": [
    "### Importing an image"
   ]
  },
  {
   "cell_type": "code",
   "execution_count": 5,
   "metadata": {},
   "outputs": [
    {
     "data": {
      "text/html": [
       "\n",
       "<div style=\"text-align: center;\">\n",
       "    <h3 style=\"font-family: sans-serif; color: #444;\">🐝 Rusty Patched Bumble Bee</h3>\n",
       "    <img src=\"https://www.canr.msu.edu/home_gardening/uploads/images/Photo1-Rusty.jpg?language_id=1\" alt=\"Rusty Patched Bumble Bee\" style=\"max-width: 80%; height: auto; border-radius: 8px; border: 2px solid #ccc;\">\n",
       "</div>\n"
      ],
      "text/plain": [
       "<IPython.core.display.HTML object>"
      ]
     },
     "metadata": {},
     "output_type": "display_data"
    }
   ],
   "source": [
    "from IPython.display import Image, display, HTML\n",
    "\n",
    "# Define image title and URL\n",
    "title = \"🐝 Rusty Patched Bumble Bee\"\n",
    "img_url = \"https://www.canr.msu.edu/home_gardening/uploads/images/Photo1-Rusty.jpg?language_id=1\"\n",
    "\n",
    "# Display centered title and image\n",
    "html_content = f\"\"\"\n",
    "<div style=\"text-align: center;\">\n",
    "    <h3 style=\"font-family: sans-serif; color: #444;\">{title}</h3>\n",
    "    <img src=\"{img_url}\" alt=\"Rusty Patched Bumble Bee\" style=\"max-width: 80%; height: auto; border-radius: 8px; border: 2px solid #ccc;\">\n",
    "</div>\n",
    "\"\"\"\n",
    "\n",
    "display(HTML(html_content))"
   ]
  },
  {
   "cell_type": "markdown",
   "metadata": {},
   "source": [
    "Bumble bees are important pollinators of wild flowering plants and agricultural crops. They are able to fly in cooler temperatures and lower light levels than many other bees, making them excellent pollinators—especially at higher elevations and latitudes. They also perform a behavior called “buzz pollination,” in which the bee grabs the flower in her jaws and vibrates her wing muscles to dislodge pollen from the flower. Many plants, including a number of wildflowers and crops like tomatoes, peppers, and cranberries, benefit from buzz pollination.\n",
    "\n",
    "Because they are essential pollinators, loss of bumble bees can have far ranging ecological consequences. Alarmingly, recent work by the Xerces Society in concert with IUCN Bumble Bee Specialist Group, indicates that some species have experienced rapid and dramatic declines more than others. In fact, more than one quarter (28%) of all North American bumble bees are facing some degree of extinction risk. While some species have received considerable conservation attention, other species such as the Suckley cuckoo bumble bee and the variable cuckoo bumble bee have been largely overlooked.\n",
    "\n",
    "For information about our efforts to conserve the rusty patched bumble bee (Bombus affinis), please see its <a href='https://www.xerces.org/rusty-patched-bumble-bee/'>profile page</a> and check out this <a href='https://storymaps.arcgis.com/stories/c5e591a19eb24d28af483ede7b174434'>story map</a>."
   ]
  },
  {
   "cell_type": "markdown",
   "metadata": {},
   "source": [
    "## Data Access Python"
   ]
  },
  {
   "cell_type": "markdown",
   "metadata": {},
   "source": [
    "#### Reading a CSV File into a DataFrame"
   ]
  },
  {
   "cell_type": "markdown",
   "metadata": {},
   "source": [
    "Reading a CSV file into a DataFrame is the first step in data analysis using pandas. This task involves loading data from a CSV file into a pandas DataFrame, which provides a powerful and flexible data structure for data manipulation and analysis. The read_csv function is used to read the CSV file, making the data easily accessible for various operations such as filtering, grouping, and aggregating."
   ]
  },
  {
   "cell_type": "code",
   "execution_count": 1,
   "metadata": {},
   "outputs": [],
   "source": [
    "import pandas as pd"
   ]
  },
  {
   "cell_type": "code",
   "execution_count": 2,
   "metadata": {},
   "outputs": [
    {
     "name": "stderr",
     "output_type": "stream",
     "text": [
      "/tmp/ipykernel_785/3399206490.py:3: DtypeWarning: Columns (6,16) have mixed types. Specify dtype option on import or set low_memory=False.\n",
      "  df1=pd.read_csv('/workspaces/myfolder/SASPythonDataScientists/pattern_decline_N_American_Bumblebees.csv', encoding='latin-1')\n"
     ]
    }
   ],
   "source": [
    "# Read the North American bumblebee CSV file into a DataFrame for easy data manipulation and analysis.\n",
    "\n",
    "df1=pd.read_csv('/workspaces/myfolder/SASPythonDataScientists/pattern_decline_N_American_Bumblebees.csv', encoding='latin-1')"
   ]
  },
  {
   "cell_type": "code",
   "execution_count": 3,
   "metadata": {},
   "outputs": [],
   "source": [
    "# Read the Mexican bumblebee CSV file into a DataFrame for easy data manipulation and analysis.\n",
    "df2=pd.read_csv('/workspaces/myfolder/SASPythonDataScientists/pattern_decline_Mexican_Bumblebees.csv' , encoding='latin-1')"
   ]
  },
  {
   "cell_type": "code",
   "execution_count": 4,
   "metadata": {},
   "outputs": [],
   "source": [
    "# Read the scientific and common name lookup csv file into a DataFrame\n",
    "df3=pd.read_csv('/workspaces/myfolder/SASPythonDataScientists/Bumblebee_Others_Scientific_Common_Names.csv' , encoding='latin-1')"
   ]
  },
  {
   "cell_type": "code",
   "execution_count": 5,
   "metadata": {},
   "outputs": [],
   "source": [
    "# Read the native vs non native bee data into a DataFrame\n",
    "df4=pd.read_csv('/workspaces/myfolder/SASPythonDataScientists/native_vs_nonnative_bumblebee_sighting_pollinators_of_farm_data_for_publication.csv' , encoding='latin-1')"
   ]
  }
 ],
 "metadata": {
  "kernelspec": {
   "display_name": "Python 3",
   "language": "python",
   "name": "python3"
  },
  "language_info": {
   "codemirror_mode": {
    "name": "ipython",
    "version": 3
   },
   "file_extension": ".py",
   "mimetype": "text/x-python",
   "name": "python",
   "nbconvert_exporter": "python",
   "pygments_lexer": "ipython3",
   "version": "3.11.11"
  }
 },
 "nbformat": 4,
 "nbformat_minor": 2
}
