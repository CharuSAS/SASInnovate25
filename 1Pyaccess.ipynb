{
 "cells": [
  {
   "cell_type": "markdown",
   "metadata": {},
   "source": [
    "## Python Data Access"
   ]
  },
  {
   "cell_type": "markdown",
   "metadata": {},
   "source": [
    "On the Python side we’ll work with the same real-world data on North American bumblebees. We'll use Python in SAS Viya Workbench to read four CSV files into dataframes, making it easy to manipulate, explore, and analyze trends and patterns in pollinator populations."
   ]
  },
  {
   "cell_type": "markdown",
   "metadata": {},
   "source": [
    "### Importing an image In Python"
   ]
  },
  {
   "cell_type": "code",
   "execution_count": 7,
   "metadata": {},
   "outputs": [
    {
     "data": {
      "text/html": [
       "\n",
       "<h3 style=\"text-align:center; font-size:16px;\">Rusty Patched Bumble Bee</h3>\n"
      ],
      "text/plain": [
       "<IPython.core.display.HTML object>"
      ]
     },
     "metadata": {},
     "output_type": "display_data"
    },
    {
     "data": {
      "text/html": [
       "\n",
       "<img src=\"https://www.canr.msu.edu/home_gardening/uploads/images/Photo1-Rusty.jpg?language_id=1\" \n",
       "     alt=\"Rusty Patched Bumble Bee\"\n",
       "     style=\"width:660px;height:433px;border:2px solid #ccc;border-radius:10px;\">\n"
      ],
      "text/plain": [
       "<IPython.core.display.HTML object>"
      ]
     },
     "metadata": {},
     "output_type": "display_data"
    }
   ],
   "source": [
    "from IPython.display import display, HTML\n",
    "\n",
    "# Title\n",
    "display(HTML('''\n",
    "<h3 style=\"text-align:center; font-size:16px;\">Rusty Patched Bumble Bee</h3>\n",
    "'''))\n",
    "\n",
    "# Insert image with styling\n",
    "display(HTML('''\n",
    "<img src=\"https://www.canr.msu.edu/home_gardening/uploads/images/Photo1-Rusty.jpg?language_id=1\" \n",
    "     alt=\"Rusty Patched Bumble Bee\"\n",
    "     style=\"width:660px;height:433px;border:2px solid #ccc;border-radius:10px;\">\n",
    "'''))"
   ]
  },
  {
   "cell_type": "markdown",
   "metadata": {},
   "source": [
    "Bumble bees are vital pollinators for wildflowers and crops, thriving in cooler temperatures and low light. Their unique \"buzz pollination\" technique—vibrating flowers to release pollen—benefits plants like tomatoes, peppers, and cranberries.\n",
    "\n",
    "Unfortunately, bumble bee populations are in sharp decline. Recent research by the Xerces Society and the IUCN Bumble Bee Specialist Group shows that over 28% of North American species face extinction risks. While some species have gained conservation support, others, like the Suckley and variable cuckoo bumble bees, remain overlooked.\n",
    "\n",
    "Learn more about efforts to protect the <a href='https://www.xerces.org/rusty-patched-bumble-bee/'>rusty patched bumble bee  here</a> and explore this <a href='https://storymaps.arcgis.com/stories/c5e591a19eb24d28af483ede7b174434'>story map</a>."
   ]
  },
  {
   "cell_type": "markdown",
   "metadata": {},
   "source": [
    "#### Reading a CSV File into a DataFrame"
   ]
  },
  {
   "cell_type": "markdown",
   "metadata": {},
   "source": [
    "Reading a CSV file into a DataFrame is the first step in data analysis using pandas. This task involves loading data from a CSV file into a pandas DataFrame, which provides a powerful and flexible data structure for data manipulation and analysis. The read_csv function is used to read the CSV file, making the data easily accessible for various operations such as filtering, grouping, and aggregating."
   ]
  },
  {
   "cell_type": "markdown",
   "metadata": {},
   "source": [
    "Pandas is a powerful Python library used for data manipulation, cleaning, and analysis, especially with structured data like tables and spreadsheets."
   ]
  },
  {
   "cell_type": "code",
   "execution_count": 2,
   "metadata": {},
   "outputs": [],
   "source": [
    "# Import the pandas library for data manipulation and analysis\n",
    "import pandas as pd"
   ]
  },
  {
   "cell_type": "code",
   "execution_count": null,
   "metadata": {},
   "outputs": [
    {
     "name": "stderr",
     "output_type": "stream",
     "text": [
      "/tmp/ipykernel_785/3399206490.py:3: DtypeWarning: Columns (6,16) have mixed types. Specify dtype option on import or set low_memory=False.\n",
      "  df1=pd.read_csv('/workspaces/myfolder/SASPythonDataScientists/pattern_decline_N_American_Bumblebees.csv', encoding='latin-1')\n"
     ]
    }
   ],
   "source": [
    "# Read the North American bumblebee CSV file into a DataFrame for easy data manipulation and analysis.\n",
    "\n",
    "df1=pd.read_csv('/workspaces/myfolder/SASInnovate25/pattern_decline_N_American_Bumblebees.csv', encoding='latin-1')"
   ]
  },
  {
   "cell_type": "markdown",
   "metadata": {},
   "source": [
    "This warning means columns 6 and 16 have mixed data types (e.g., numbers and text). You can resolve it by specifying the correct dtype or using low_memory=False to process the file in chunks. Specifying dtype is more precise, while low_memory=False is a quick but less reliable fix."
   ]
  },
  {
   "cell_type": "code",
   "execution_count": 3,
   "metadata": {},
   "outputs": [],
   "source": [
    "# Read the North American bumblebee CSV file into a DataFrame for easy data manipulation and analysis, forcing column 6 and 16 to be strings\n",
    "df1=pd.read_csv('/workspaces/myfolder/SASInnovate25/pattern_decline_N_American_Bumblebees.csv', dtype={6: str, 16: str}, encoding='latin-1')"
   ]
  },
  {
   "cell_type": "code",
   "execution_count": 12,
   "metadata": {},
   "outputs": [],
   "source": [
    "# Read the Mexican bumblebee CSV file into a DataFrame for easy data manipulation and analysis.\n",
    "df2=pd.read_csv('/workspaces/myfolder/SASInnovate25/pattern_decline_Mexican_Bumblebees.csv' , encoding='latin-1')"
   ]
  },
  {
   "cell_type": "code",
   "execution_count": 5,
   "metadata": {},
   "outputs": [],
   "source": [
    "# Read the scientific and common name lookup csv file into a DataFrame for easy data manipulation and analysis.\n",
    "df3=pd.read_csv('/workspaces/myfolder/SASInnovate25/Bumblebee_Others_Scientific_Common_Names.csv' , encoding='latin-1')"
   ]
  },
  {
   "cell_type": "code",
   "execution_count": 6,
   "metadata": {},
   "outputs": [],
   "source": [
    "# Read the native vs non native bee data into a DataFrame for easy data manipulation and analysis.\n",
    "df4=pd.read_csv('/workspaces/myfolder/SASInnovate25/native_vs_nonnative_bumblebee_sighting_pollinators_of_farm_data_for_publication.csv' , encoding='latin-1')"
   ]
  }
 ],
 "metadata": {
  "kernelspec": {
   "display_name": "Python 3",
   "language": "python",
   "name": "python3"
  },
  "language_info": {
   "codemirror_mode": {
    "name": "ipython",
    "version": 3
   },
   "file_extension": ".py",
   "mimetype": "text/x-python",
   "name": "python",
   "nbconvert_exporter": "python",
   "pygments_lexer": "ipython3",
   "version": "3.11.11"
  }
 },
 "nbformat": 4,
 "nbformat_minor": 2
}
