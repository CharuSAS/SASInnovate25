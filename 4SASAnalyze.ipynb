{
 "cells": [
  {
   "cell_type": "markdown",
   "metadata": {},
   "source": [
    "We need to find bumblebees with names ending in \"ern,\" \"ed,\" or a charming hyphen. Our Queen Bee, a Southern belle with a flair for magnolias, believes these names hint at the finest nectar. Can you be on the lookout for maybe a Buzz-ern, Dappled-ed, or Polka-dotted bee to keep her hive the envy of the meadows!"
   ]
  },
  {
   "cell_type": "code",
   "execution_count": null,
   "metadata": {},
   "outputs": [],
   "source": [
    "/*locate certain bee populations by name pattern*/\n",
    "/*regex -specificity, precision & density*/\n",
    "\n",
    "proc print data=dst3;\n",
    "/*ed OR ern FOLLOWED BY a SPACE or -*/\n",
    "/*OR*/\n",
    "/* any value with a dash*/\n",
    "where prxmatch('/((ed|ern)\\W)|\\-/',commonname);\n",
    "run;\n",
    "\n",
    "/* Can the contains operator perform better? */\n",
    "proc print data=dst3;\n",
    "where commonname contains 'ed' or commonname contains 'en' or commonname contains '-';\n",
    "run;\n",
    "\n",
    "/* Certainly, the Like operator must perform better */\n",
    "proc print data=dst3;\n",
    "where commonname like '%ed%' and  commonname and '%ern%' and commonname contains '-';\n",
    "run;"
   ]
  },
  {
   "cell_type": "markdown",
   "metadata": {},
   "source": [
    "Regular Expression Breakdown- (ed|ern): This part of the regex uses a grouping to match either \"ed\" or \"ern\". The vertical bar | acts as an \"OR\" operator, meaning it will match if either \"ed\" or \"ern\" is found.\n",
    "\n",
    "\\W: Matches any non-word character. A \"word\" character is typically any letter, digit, or underscore (\\w), so \\W matches anything that is not a letter, digit, or underscore. This includes spaces, punctuation, etc.\n",
    "\n",
    "(ed|ern)\\W: This combination means that \"ed\" or \"ern\" must be followed by a non-word character. This ensures that the regex matches \"ed\" or \"ern\" only if they are at the end of a word or followed by something that is not part of the word (e.g., a space or punctuation).\n",
    "\n",
    "-: Matches the literal hyphen character (-). The backslash () is used to escape the hyphen, ensuring that the regex treats it as a literal character rather than a special character with a different meaning in regex(e.g. a range of characters).\n",
    "\n",
    "|: The \"OR\" operator allows the regex to match either the pattern on the left side or the pattern on the right side of it.\n",
    "\n",
    "((ed|ern)\\W)|-:\n",
    "\n",
    "This entire expression will match: Any occurrence of \"ed\" or \"ern\" followed by a non-word character (like a space or punctuation). Any hyphen (-) in the string. https://regex101.com/"
   ]
  },
  {
   "cell_type": "markdown",
   "metadata": {},
   "source": [
    "Buzzing Around: Mapping Bumblebee Hotspots! Let's track down where these fuzzy friends are hanging out the most. From hot & arid Arizona to the cool climes of Ontario, grab your data nets and let’s discover the ultimate bee hangouts"
   ]
  },
  {
   "cell_type": "code",
   "execution_count": null,
   "metadata": {},
   "outputs": [],
   "source": [
    "Title \"count of bees by scientific name and stateprovince\";\n",
    "proc sql;\n",
    "select  scientificname, stateprovince,  count(scientificname) as count 'Number of Bees'\n",
    "from dst1\n",
    "group by 2,  1\n",
    "order by 3 desc,2, 1\n",
    ";"
   ]
  }
 ],
 "metadata": {
  "language_info": {
   "name": "python"
  }
 },
 "nbformat": 4,
 "nbformat_minor": 2
}
